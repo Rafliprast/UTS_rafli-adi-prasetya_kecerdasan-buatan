{
 "cells": [
  {
   "cell_type": "code",
   "execution_count": 1,
   "id": "18b28eba-ebf5-41c2-8702-2ec9b2cdd757",
   "metadata": {},
   "outputs": [
    {
     "name": "stdout",
     "output_type": "stream",
     "text": [
      "Task 1: [{'name': 'Company 3'}, {'name': 'Company 2'}, {'name': 'Company 1'}]\n",
      "Task 2:\n",
      "Company 1: Retail (United States)\n",
      "Company 2: Technology (United Kingdom)\n",
      "Company 3: Healthcare (United States)\n",
      "Task 3: {'Retail': ['John Doe', 'Ying Han Tan', 'Robert White'], 'Technology': ['Tom Smith', 'Rubby Lee'], 'Healthcare': ['Andrew Sebastian', 'Kenneth Ng']}\n",
      "Task 4: [{'full_name': 'John Doe', 'company': 'Company 1', 'country': 'United States'}, {'full_name': 'Tom Smith', 'company': 'Company 2', 'country': 'United Kingdom'}, {'full_name': 'Andrew Sebastian', 'company': 'Company 3', 'country': 'United States'}, {'full_name': 'Ying Han Tan', 'company': 'Company 1', 'country': 'United States'}, {'full_name': 'Kenneth Ng', 'company': 'Company 3', 'country': 'United States'}, {'full_name': 'Rubby Lee', 'company': 'Company 2', 'country': 'United Kingdom'}, {'full_name': 'Robert White', 'company': 'Company 1', 'country': 'United States'}]\n",
      "Task 5: [{'company': 'Company 1', 'employee_nationality': {'Australia': 2, 'United Kingdom': 1}}, {'company': 'Company 2', 'employee_nationality': {'United States': 1, 'Hong Kong': 1}}, {'company': 'Company 3', 'employee_nationality': {'United States': 2}}]\n"
     ]
    }
   ],
   "source": [
    "# Data\n",
    "company_detail_list = [\n",
    "    {'name': 'Company 1', 'domain': 'Retail', 'country': 'United States'},\n",
    "    {'name': 'Company 2', 'domain': 'Technology', 'country': 'United Kingdom'},\n",
    "    {'name': 'Company 3', 'domain': 'Healthcare', 'country': 'United States'}\n",
    "]\n",
    "\n",
    "employee_detail_list = [\n",
    "    {'name': 'EMP-0001', 'first_name': 'John', 'last_name': 'Doe', 'full_name': 'John Doe', 'company': 'Company 1', 'nationality': 'Australia'},\n",
    "    {'name': 'EMP-0002', 'first_name': 'Tom', 'last_name': 'Smith', 'full_name': 'Tom Smith', 'company': 'Company 2', 'nationality': 'United States'},\n",
    "    {'name': 'EMP-0003', 'first_name': 'Andrew', 'last_name': 'Sebastian', 'full_name': 'Andrew Sebastian', 'company': 'Company 3', 'nationality': 'United States'},\n",
    "    {'name': 'EMP-0005', 'first_name': 'Ying Han', 'last_name': 'Tan', 'full_name': 'Ying Han Tan', 'company': 'Company 1', 'nationality': 'Australia'},\n",
    "    {'name': 'EMP-0015', 'first_name': 'Kenneth', 'last_name': 'Ng', 'full_name': 'Kenneth Ng', 'company': 'Company 3', 'nationality': 'United States'},\n",
    "    {'name': 'EMP-0018', 'first_name': 'Rubby', 'last_name': 'Lee', 'full_name': 'Rubby Lee', 'company': 'Company 2', 'nationality': 'Hong Kong'},\n",
    "    {'name': 'EMP-0017', 'first_name': 'Robert', 'last_name': 'White', 'full_name': 'Robert White', 'company': 'Company 1', 'nationality': 'United Kingdom'}\n",
    "]\n",
    "\n",
    "# Task 1: List all Companies sorted by Company Name in reverse order\n",
    "def get_sorted_companies():\n",
    "    return sorted([{'name': company['name']} for company in company_detail_list], key=lambda x: x['name'], reverse=True)\n",
    "\n",
    "# Task 2: Print all Domain values in every company\n",
    "def print_company_domains():\n",
    "    for company in company_detail_list:\n",
    "        print(f\"{company['name']}: {company['domain']} ({company['country']})\")\n",
    "\n",
    "# Task 3: List all Employees by company domain\n",
    "def employees_by_domain():\n",
    "    domain_employees = {}\n",
    "    for company in company_detail_list:\n",
    "        domain = company['domain']\n",
    "        domain_employees[domain] = [\n",
    "            emp['full_name'] for emp in employee_detail_list if emp['company'] == company['name']\n",
    "        ]\n",
    "    return domain_employees\n",
    "\n",
    "# Task 4: Return employees with their company's country\n",
    "def employees_with_company_country():\n",
    "    employee_list = []\n",
    "    company_countries = {comp['name']: comp['country'] for comp in company_detail_list}\n",
    "    for emp in employee_detail_list:\n",
    "        employee_list.append({\n",
    "            'full_name': emp['full_name'],\n",
    "            'company': emp['company'],\n",
    "            'country': company_countries.get(emp['company'])\n",
    "        })\n",
    "    return employee_list\n",
    "\n",
    "# Task 5: Return companies with the count of employees' nationalities\n",
    "from collections import defaultdict\n",
    "\n",
    "def company_employee_nationalities():\n",
    "    nationality_count = defaultdict(lambda: defaultdict(int))\n",
    "    for emp in employee_detail_list:\n",
    "        nationality_count[emp['company']][emp['nationality']] += 1\n",
    "\n",
    "    result = [\n",
    "        {\n",
    "            'company': company['name'],\n",
    "            'employee_nationality': dict(nationality_count[company['name']])\n",
    "        }\n",
    "        for company in company_detail_list\n",
    "    ]\n",
    "    return result\n",
    "\n",
    "# Testing each function with expected output\n",
    "print(\"Task 1:\", get_sorted_companies())\n",
    "print(\"Task 2:\")\n",
    "print_company_domains()\n",
    "print(\"Task 3:\", employees_by_domain())\n",
    "print(\"Task 4:\", employees_with_company_country())\n",
    "print(\"Task 5:\", company_employee_nationalities())\n"
   ]
  },
  {
   "cell_type": "code",
   "execution_count": null,
   "id": "77e75f00-6e98-416c-9a8c-c56d1448e148",
   "metadata": {},
   "outputs": [],
   "source": []
  }
 ],
 "metadata": {
  "kernelspec": {
   "display_name": "Python 3 (ipykernel)",
   "language": "python",
   "name": "python3"
  },
  "language_info": {
   "codemirror_mode": {
    "name": "ipython",
    "version": 3
   },
   "file_extension": ".py",
   "mimetype": "text/x-python",
   "name": "python",
   "nbconvert_exporter": "python",
   "pygments_lexer": "ipython3",
   "version": "3.12.6"
  }
 },
 "nbformat": 4,
 "nbformat_minor": 5
}
